{
  "nbformat": 4,
  "nbformat_minor": 0,
  "metadata": {
    "colab": {
      "provenance": [],
      "authorship_tag": "ABX9TyMLQql9VWJOwNBV4uzVFwfT",
      "include_colab_link": true
    },
    "kernelspec": {
      "name": "python3",
      "display_name": "Python 3"
    },
    "language_info": {
      "name": "python"
    }
  },
  "cells": [
    {
      "cell_type": "markdown",
      "metadata": {
        "id": "view-in-github",
        "colab_type": "text"
      },
      "source": [
        "<a href=\"https://colab.research.google.com/github/habibmalek/Complete-Python-3-Bootcamp/blob/master/Patients-with-DecisionTree.ipynb\" target=\"_parent\"><img src=\"https://colab.research.google.com/assets/colab-badge.svg\" alt=\"Open In Colab\"/></a>"
      ]
    },
    {
      "cell_type": "code",
      "execution_count": 45,
      "metadata": {
        "colab": {
          "base_uri": "https://localhost:8080/"
        },
        "id": "4aCabPQHhaq-",
        "outputId": "e943ff59-13cb-4262-f070-d6c112fd52cf"
      },
      "outputs": [
        {
          "output_type": "stream",
          "name": "stdout",
          "text": [
            "Test 0  :  1.0  ,  0.9333333333333333\n",
            "Test 1  :  1.0  ,  0.7666666666666667\n",
            "Test 2  :  1.0  ,  0.8666666666666667\n",
            "Test 3  :  1.0  ,  0.85\n",
            "Test 4  :  1.0  ,  0.8\n",
            "Test 5  :  1.0  ,  0.8833333333333333\n",
            "Test 6  :  1.0  ,  0.8833333333333333\n",
            "Test 0  :  0.9208333333333333  ,  0.8166666666666667\n",
            "Test 1  :  0.8916666666666667  ,  0.85\n",
            "Test 2  :  0.8958333333333334  ,  0.8333333333333334\n",
            "Test 3  :  0.9125  ,  0.8333333333333334\n",
            "Test 4  :  0.9166666666666666  ,  0.7666666666666667\n",
            "Test 5  :  0.8791666666666667  ,  0.75\n",
            "Test 6  :  0.8875  ,  0.8333333333333334\n"
          ]
        }
      ],
      "source": [
        "from sklearn.model_selection import cross_val_score\n",
        "from sklearn.tree import DecisionTreeClassifier\n",
        "from sklearn.model_selection import train_test_split\n",
        "from sklearn.metrics import accuracy_score\n",
        "import pandas as pd\n",
        "\n",
        "df = pd.read_csv(\"heart_failure.csv\")\n",
        "y = df['DEATH_EVENT']\n",
        "x = df.iloc[:, 0:13]\n",
        "\n",
        "train_accuracies = []\n",
        "test_accuracies = []\n",
        "\n",
        "def train_and_evaluate_model(x, y):\n",
        "  x_train, x_test, y_train, y_test = train_test_split(x, y, test_size=0.20)\n",
        "  model = DecisionTreeClassifier()\n",
        "  model.fit(x_train, y_train)\n",
        "  y_train_pred = model.predict(x_train)\n",
        "  train_accuracy = accuracy_score(y_train, y_train_pred)\n",
        "\n",
        "  y_test_pred = model.predict(x_test)\n",
        "  test_accuracy = accuracy_score(y_test, y_test_pred)\n",
        "\n",
        "  return train_accuracy, test_accuracy\n",
        "\n",
        "\n",
        "for i in range(7):\n",
        "  train_accuracy, test_accuracy = train_and_evaluate_model(x, y)\n",
        "  train_accuracies.append(train_accuracy)\n",
        "  test_accuracies.append(test_accuracy)\n",
        "  print('Test' , i, ' : ', train_accuracy, ' , ', test_accuracy)\n",
        "\n",
        "## the above model it's overfitting!\n",
        "\n",
        "def train_and_evaluate_model2(x, y):\n",
        "  x_train, x_test, y_train, y_test = train_test_split(x, y, test_size=0.20)\n",
        "  model2 = DecisionTreeClassifier(max_depth=3, min_samples_leaf=1, min_samples_split=2)\n",
        "  model2.fit(x_train, y_train)\n",
        "  y_train_pred = model2.predict(x_train)\n",
        "  train_accuracy = accuracy_score(y_train, y_train_pred)\n",
        "\n",
        "  y_test_pred = model2.predict(x_test)\n",
        "  test_accuracy = accuracy_score(y_test, y_test_pred)\n",
        "\n",
        "  return train_accuracy, test_accuracy\n",
        "\n",
        "\n",
        "for i in range(7):\n",
        "  train_accuracy, test_accuracy = train_and_evaluate_model2(x, y)\n",
        "  train_accuracies.append(train_accuracy)\n",
        "  test_accuracies.append(test_accuracy)\n",
        "  print('Test' , i, ' : ', train_accuracy, ' , ', test_accuracy)\n"
      ]
    },
    {
      "cell_type": "code",
      "source": [],
      "metadata": {
        "id": "PSN5DO4NnA7w"
      },
      "execution_count": null,
      "outputs": []
    }
  ]
}